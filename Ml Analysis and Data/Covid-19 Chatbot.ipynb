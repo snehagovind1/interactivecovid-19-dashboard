{
 "cells": [
  {
   "cell_type": "code",
   "execution_count": 1,
   "source": [
    "import pandas as pd\r\n",
    "import numpy as np\r\n",
    "import random\r\n",
    "import re\r\n",
    "from sklearn.feature_extraction.text import CountVectorizer\r\n",
    "from sklearn.metrics.pairwise import cosine_similarity"
   ],
   "outputs": [],
   "metadata": {}
  },
  {
   "cell_type": "code",
   "execution_count": 5,
   "source": [
    "df = pd.read_csv('D:\\Covid-19-TREND ANALYSIS USING MACHINE LEARNING TECHNIQUE CODE\\cdc_qa.csv',\r\n",
    "                 header=0,\r\n",
    "                 names=['Questions', 'Answers'])"
   ],
   "outputs": [],
   "metadata": {}
  },
  {
   "cell_type": "code",
   "execution_count": 6,
   "source": [
    "vectorizer = CountVectorizer()\r\n",
    "count_vec = vectorizer.fit_transform(df['Questions']).toarray()"
   ],
   "outputs": [],
   "metadata": {}
  },
  {
   "cell_type": "code",
   "execution_count": 7,
   "source": [
    "def COVIDbot(user_response):\r\n",
    "  text = vectorizer.transform([user_response]).toarray()\r\n",
    "  df['similarity'] = cosine_similarity(count_vec, text)\r\n",
    "  return df.sort_values(['similarity'], ascending=False).iloc[0]['Answers']"
   ],
   "outputs": [],
   "metadata": {}
  },
  {
   "cell_type": "code",
   "execution_count": 10,
   "source": [
    "COVIDbot('What is corona virus?')"
   ],
   "outputs": [
    {
     "output_type": "execute_result",
     "data": {
      "text/plain": [
       "'Current symptoms reported for patients with COVID-19 have included mild to severe respiratory illness with fever1, cough, and difficulty breathing. Read about COVID-19 Symptoms.\\r\\n'"
      ]
     },
     "metadata": {},
     "execution_count": 10
    }
   ],
   "metadata": {}
  },
  {
   "cell_type": "code",
   "execution_count": 9,
   "source": [
    "welcome_input = (\"hello\", \"hi\", \"greetings\", \"sup\", \"what's up\",\"hey\",)\r\n",
    "welcome_response = [\"hi\", \"hey\", \"*nods*\", \"hi there\", \"hello\", \"I am glad! You are talking to me\"]\r\n",
    "def welcome(user_response):\r\n",
    "    for word in user_response.split():\r\n",
    "        if word.lower() in welcome_input:\r\n",
    "            return random.choice(welcome_response)"
   ],
   "outputs": [],
   "metadata": {}
  },
  {
   "cell_type": "code",
   "execution_count": 15,
   "source": [
    "flag=True\r\n",
    "print(\"Greetings! I am a chatbot and I will try to answer your questions about COVID-19. If you want to exit, type Bye!\")\r\n",
    "while(flag==True):\r\n",
    "    user_response = input()\r\n",
    "    user_response = user_response.lower()\r\n",
    "    if(user_response not in ['bye','shutdown','exit', 'quit']):\r\n",
    "        if(user_response=='thanks' or user_response=='thank you'):\r\n",
    "            flag=False\r\n",
    "            print(\"Chatbot : You are welcome..\")\r\n",
    "        else:\r\n",
    "            if(welcome(user_response)!=None):\r\n",
    "                print(\"Chatbot : \"+welcome(user_response))\r\n",
    "            else:\r\n",
    "                print(\"Chatbot : \",end=\"\")\r\n",
    "                print(COVIDbot(user_response))\r\n",
    "    else:\r\n",
    "        flag=False\r\n",
    "        print(\"Chatbot : Bye!!! \")"
   ],
   "outputs": [
    {
     "output_type": "stream",
     "name": "stdout",
     "text": [
      "Greetings! I am a chatbot and I will try to answer your questions about COVID-19. If you want to exit, type Bye!\n",
      "what is covid\n",
      "Chatbot : This is an emerging, rapidly evolving situation and CDC will continue to provide updated information as it becomes available. CDC works 24/7 to protect people’s health. More information about CDC’s response to COVID-19 is available online.\n",
      "\n",
      "how to cure covid\n",
      "Chatbot : People can fight stigma and help, not hurt, others by providing social support. Counter stigma by learning and sharing facts. Communicating the facts that viruses do not target specific racial or ethnic groups and how COVID-19 actually spreads can help stop stigma.\n",
      "\n",
      "symptoms of covid\n",
      "Chatbot : No. The symptoms of COVID-19 are similar in children and adults. However, children with confirmed COVID-19 have generally presented with mild symptoms. Reported symptoms in children include cold-like symptoms, such as fever, runny nose, and cough. Vomiting and diarrhea have also been reported. It’s not known yet whether some children may be at higher risk for severe illness, for example, children with underlying medical conditions and special healthcare needs. There is much more to be learned about how the disease impacts children.\n",
      "\n",
      "what is novel coronavirus\n",
      "Chatbot : A novel coronavirus is a new coronavirus that has not been previously identified. The virus causing coronavirus disease 2019 (COVID-19), is not the same as the coronaviruses that commonly circulate among humans and cause mild illness, like the common cold.\n",
      "A diagnosis with coronavirus 229E, NL63, OC43, or HKU1 is not the same as a COVID-19 diagnosis. Patients with COVID-19 will be evaluated and cared for differently than patients with common coronavirus diagnosis.\n",
      "\n",
      "How can people help stop stigma related to COVID-19?\n",
      "Chatbot : People can fight stigma and help, not hurt, others by providing social support. Counter stigma by learning and sharing facts. Communicating the facts that viruses do not target specific racial or ethnic groups and how COVID-19 actually spreads can help stop stigma.\n",
      "\n",
      "how does the virus originated\n",
      "Chatbot : This virus was first detected in Wuhan City, Hubei Province, China. The first infections were linked to a live animal market, but the virus is now spreading from person-to-person. It’s important to note that person-to-person spread can happen on a continuum. Some viruses are highly contagious (like measles), while other viruses are less so.\n",
      "The virus that causes COVID-19 seems to be spreading easily and sustainably in the community (“community spread”) in some affected geographic areas. Community spread means people have been infected with the virus in an area, including some who are not sure how or where they became infected.\n",
      "Learn what is known about the spread of newly emerged coronaviruses.\n",
      "\n",
      "what to do if i had been in contact with virus\n",
      "Chatbot : There is information for people who have had close contact with a person confirmed to have, or being evaluated for, COVID-19 available online.\n",
      "\n",
      "bye\n",
      "Chatbot : Bye!!! \n"
     ]
    }
   ],
   "metadata": {}
  },
  {
   "cell_type": "code",
   "execution_count": null,
   "source": [],
   "outputs": [],
   "metadata": {}
  }
 ],
 "metadata": {
  "kernelspec": {
   "name": "python3",
   "display_name": "Python 3.9.5 64-bit"
  },
  "language_info": {
   "codemirror_mode": {
    "name": "ipython",
    "version": 3
   },
   "file_extension": ".py",
   "mimetype": "text/x-python",
   "name": "python",
   "nbconvert_exporter": "python",
   "pygments_lexer": "ipython3",
   "version": "3.9.5"
  },
  "interpreter": {
   "hash": "63fd5069d213b44bf678585dea6b12cceca9941eaf7f819626cde1f2670de90d"
  }
 },
 "nbformat": 4,
 "nbformat_minor": 2
}